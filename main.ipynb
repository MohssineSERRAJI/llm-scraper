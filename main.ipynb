{
 "cells": [
  {
   "cell_type": "code",
   "execution_count": 2,
   "metadata": {},
   "outputs": [
    {
     "name": "stdout",
     "output_type": "stream",
     "text": [
      "Loading .env file\n"
     ]
    }
   ],
   "source": [
    "from settings import load_settings\n",
    "setting = load_settings()"
   ]
  },
  {
   "cell_type": "code",
   "execution_count": 1,
   "metadata": {},
   "outputs": [
    {
     "name": "stderr",
     "output_type": "stream",
     "text": [
      "USER_AGENT environment variable not set, consider setting it to identify your requests.\n"
     ]
    }
   ],
   "source": [
    "from langchain_community.document_loaders.web_base import WebBaseLoader\n",
    "from langchain_core.documents import Document\n",
    "from langchain_core.prompts import PromptTemplate\n"
   ]
  },
  {
   "cell_type": "code",
   "execution_count": 2,
   "metadata": {},
   "outputs": [],
   "source": [
    "web_loader = WebBaseLoader(\"https://weather.com/weather/tenday/l/1a8af5b9d8971c46dd5a52547f9221e22cd895d8d8639267a87df614d0912830\")"
   ]
  },
  {
   "cell_type": "code",
   "execution_count": 3,
   "metadata": {},
   "outputs": [],
   "source": [
    "docs: list[Document] = web_loader.load()"
   ]
  },
  {
   "cell_type": "code",
   "execution_count": 4,
   "metadata": {},
   "outputs": [
    {
     "data": {
      "text/plain": [
       "[Document(metadata={'source': 'https://weather.com/weather/tenday/l/1a8af5b9d8971c46dd5a52547f9221e22cd895d8d8639267a87df614d0912830', 'title': '10-Day Weather Forecast for Paris, France - The Weather Channel | weather.com', 'description': 'Be prepared with the most accurate 10-day forecast for Paris, France with highs, lows, chance of precipitation from The Weather Channel and Weather.com', 'language': 'en-US'}, page_content=\"\\n\\n\\n10-Day Weather Forecast for Paris, France - The Weather Channel | weather.com\\n\\n\\n\\n\\n\\n\\n\\nAdvertisementAdvertisementSkip to Main ContentAccessibility HelpThe Weather ChannelType at least three characters to start auto complete. Recently searched locations will be displayed if there is no search query. The first option will be automatically selected. Use up and down arrows to change selection. Use escape to clear.Search City or Zip CodeSearchrecentsClear AllYou have no recent locationsGlobeUS°FArrow down°F°CHybridImperial - F / mph / miles / inchesAmericasArrow DownAntigua and Barbuda | EnglishArgentina | EspañolBahamas | EnglishBarbados | EnglishBelize | EnglishBolivia | EspañolBrazil | PortuguêsCanada | EnglishCanada | FrançaisChile | EspañolColombia | EspañolCosta Rica | EspañolDominica | EnglishDominican Republic | EspañolEcuador | EspañolEl Salvador | EspañolGrenada | EnglishGuatemala | EspañolGuyana | EnglishHaiti | FrançaisHonduras | EspañolJamaica | EnglishMexico | EspañolNicaragua | EspañolPanama | EspañolPanama | EnglishParaguay | EspañolPeru | EspañolSt. Kitts and Nevis | EnglishSt. Lucia | EnglishSt. Vincent and the Grenadines | EnglishSuriname | NederlandsTrinidad and Tobago | EnglishUruguay | EspañolUnited States | EnglishUnited States | EspañolVenezuela | EspañolAfricaArrow DownAlgeria | العربيةAlgeria | FrançaisAngola | PortuguêsBenin | FrançaisBurkina Faso | FrançaisBurundi | FrançaisCameroon | FrançaisCameroon | EnglishCape Verde | PortuguêsCentral African Republic | FrançaisChad | FrançaisChad | العربيةComoros | FrançaisComoros | العربيةDemocratic Republic of the Congo | FrançaisRepublic of Congo | FrançaisCôte d'Ivoire | FrançaisDjibouti | FrançaisDjibouti | العربيةEgypt | العربيةEquatorial Guinea | EspañolEritrea | العربيةGabon | FrançaisGambia | EnglishGhana | EnglishGuinea | FrançaisGuinea-Bissau | PortuguêsKenya | EnglishLesotho | EnglishLiberia | EnglishLibya | العربيةMadagascar | FrançaisMali | FrançaisMauritania | العربيةMauritius | EnglishMauritius | FrançaisMorocco | العربيةMorocco | FrançaisMozambique | PortuguêsNamibia | EnglishNiger | FrançaisNigeria | EnglishRwanda | FrançaisRwanda | EnglishSao Tome and Principe | PortuguêsSenegal | FrançaisSierra Leone | EnglishSomalia | العربيةSouth Africa | EnglishSouth Sudan | EnglishSudan | العربيةSwaziland | EnglishTanzania | EnglishTogo | FrançaisTunisia | العربيةUganda | EnglishAsia PacificArrow DownAustralia | EnglishBangladesh | বাংলাBrunei | Bahasa MelayuChina | 中文Hong Kong SAR | 中文East Timor | PortuguêsFiji | EnglishIndia (English) | EnglishIndia (Hindi) | हिन्दीIndonesia | Bahasa IndonesiaJapan | 日本語Kiribati | EnglishSouth Korea | 한국어Kyrgyzstan | РусскийMalaysia | Bahasa MelayuMarshall Islands | EnglishMicronesia | EnglishNew Zealand | EnglishPalau | EnglishPhilippines | EnglishPhilippines | TagalogSamoa | EnglishSingapore | EnglishSingapore | 中文Solomon Islands | EnglishTaiwan | 中文Thailand | ไทยTonga | EnglishTuvalu | EnglishVanuatu | EnglishVanuatu | FrançaisVietnam | Tiếng ViệtEuropeArrow DownAndorra | CatalàAndorra | FrançaisAustria | DeutschBelarus | РусскийBelgium | DutchBelgium | FrançaisBosnia and Herzegovina | HrvatskiCroatia | HrvatskiCyprus | ΕλληνικάCzech Republic | ČeštinaDenmark | DanskEstonia | РусскийEstonia | EestiFinland | SuomiFrance | FrançaisGermany | DeutschGreece | ΕλληνικάHungary | MagyarIreland | EnglishItaly | ItalianoLiechtenstein | DeutschLuxembourg | FrançaisMalta | EnglishMonaco | FrançaisNetherlands | NederlandsNorway | NorskPoland | PolskiPortugal | PortuguêsRomania | RomânăRussia | РусскийSan Marino | ItalianoSlovakia | SlovenčinaSpain | EspañolSpain | CatalàSweden | SvenskaSwitzerland | DeutschTurkey | TurkçeUkraine | УкраїнськаUnited Kingdom | EnglishState of Vatican City (Holy See) | ItalianoMiddle EastArrow DownBahrain | العربيةIran |  فارسىIraq | العربيةIsrael | עִבְרִיתJordan | العربيةKuwait | العربيةLebanon | العربيةOman | العربيةPakistan |  اردوPakistan | EnglishQatar | العربيةSaudi Arabia | العربيةSyria | العربيةUnited Arab Emirates | العربيةWeather ForecastsTodayHourly10 DayWeekendMonthly & AlmanacYesterdayExternal LinkRadar & MapsInteractive Radar MapUS ForecastUS Satellite & RadarWorld SatelliteUS Severe AlertsUS HealthNews & MediaTop Weather StoriesHurricane CentralScience & EnvironmentSpace & SkywatchingSafety & PrepVideosProductsAlexa SkillExternal LinkWeather UndergroundExternal LinkStorm RadarExternal LinkHealth & WellnessHealthEczemaPsoriasisDiabetesHealthy LivingAllergy TrackerAir Quality IndexCold & Flu TrackerSkin HealthPrivacyCookie SettingsData RightsPrivacy PolicyLifestyleGrilling SeasonHome & GardenTravel & OutdoorsPets & AnimalsGamesNEWExternal LinkPartly Cloudy57°Paris, FranceArrow LeftArrow RightMy DashboardNEWTodayHourly10 DayWeekendMonthlyRadarHurricaneMiltonMore ForecastsMoreArrow downSpecialty ForecastsYesterday's WeatherExternal LinkAllergy TrackerCold & FluAir Quality ForecastLive UpdatesMilton Could Deliver Worst Hit To Tampa Bay In 100 YearsAdvertisement10 Day Weather-Paris, FranceAs of 9:01 am CESTalertLevel2Moderate Warning for Thunderstorm +1 MoreTodayPartly CloudyAM Clouds/PM Sun66°/56°Rain15%WindSSW 14\\xa0mphArrow UpTue 08 | Day66°Partly CloudyRain15%WindSSW 14\\xa0mphCloudy early with peeks of sunshine expected late. High 66F. Winds SSW at 10 to 20 mph.HumidityHumidity79%UV LevelUV Index3 of 11Sun RiseSunrise8:00 amSunsetSunset7:14 pmTue 08 | Night56°RainRain95%WindSSW 12\\xa0mphShowers this evening, becoming a steady rain overnight. Low 56F. Winds SSW at 10 to 15 mph. Chance of rain 100%.  Locally heavy rainfall possible.HumidityHumidity87%UV LevelUV Index0 of 11Moon RiseMoonrise2:20 pmMoon Phase - Day 5Waxing CrescentMoon SetMoonset9:31 pmWed 09RainRain60°/54°Rain99%WindSSW 8\\xa0mphArrow DownWed 09 | Day60°RainRain99%WindSSW 8\\xa0mphCloudy with periods of rain. High around 60F. Winds SSW at 5 to 10 mph. Chance of rain 100%. Rainfall may reach one inch.  Localized flooding is possible.HumidityHumidity95%UV LevelUV Index1 of 11Sun RiseSunrise8:02 amSunsetSunset7:12 pmWed 09 | Night54°RainRain97%WindNW 9\\xa0mphA steady rain in the evening. Showers continuing late. Low 54F. Winds NW at 5 to 10 mph. Chance of rain 100%. Rainfall around a half an inch.  Localized flooding is possible.HumidityHumidity96%UV LevelUV Index0 of 11Moon RiseMoonrise3:21 pmMoon Phase - Day 6Waxing CrescentMoon SetMoonset10:24 pmThu 10Scattered ShowersShowers58°/47°Rain59%WindWNW 8\\xa0mphArrow DownThu 10 | Day58°Scattered ShowersRain59%WindWNW 8\\xa0mphSteady light rain in the morning. Showers continuing in the afternoon. High 58F. Winds WNW at 5 to 10 mph. Chance of rain 60%.HumidityHumidity85%UV LevelUV Index2 of 11Sun RiseSunrise8:03 amSunsetSunset7:10 pmThu 10 | Night47°Scattered Showers NightRain32%WindNNW 6\\xa0mphA few showers early with mostly cloudy conditions late. Low 47F. Winds light and variable. Chance of rain 30%.HumidityHumidity88%UV LevelUV Index0 of 11Moon RiseMoonrise4:10 pmMoon Phase - Day 7First QuarterMoon SetMoonset11:33 pmFri 11Partly CloudyPartly Cloudy57°/44°Rain13%WindENE 4\\xa0mphArrow DownFri 11 | Day57°Partly CloudyRain13%WindENE 4\\xa0mphPartly cloudy skies. High 57F. Winds light and variable.HumidityHumidity78%UV LevelUV Index3 of 11Sun RiseSunrise8:05 amSunsetSunset7:08 pmFri 11 | Night44°Partly Cloudy NightRain7%WindE 5\\xa0mphPartly cloudy. Low 44F. Winds light and variable.HumidityHumidity85%UV LevelUV Index0 of 11Moon RiseMoonrise4:47 pmMoon Phase - Day 8Waxing GibbousMoon SetMoonset--Sat 12Scattered ShowersPM Showers57°/46°Rain34%WindE 5\\xa0mphArrow DownSat 12 | Day57°Scattered ShowersRain34%WindE 5\\xa0mphMostly cloudy skies early. A few showers developing later in the day. High 57F. Winds light and variable. Chance of rain 30%.HumidityHumidity82%UV LevelUV Index2 of 11Sun RiseSunrise8:06 amSunsetSunset7:06 pmSat 12 | Night46°Partly Cloudy NightRain24%WindNNE 4\\xa0mphPartly cloudy skies. Low 46F. Winds light and variable.HumidityHumidity91%UV LevelUV Index0 of 11Moon RiseMoonrise5:16 pmMoon Phase - Day 9Waxing GibbousMoon SetMoonset12:51 amSun 13Partly CloudyPartly Cloudy62°/51°Rain8%WindENE 6\\xa0mphArrow DownSun 13 | Day62°Partly CloudyRain8%WindENE 6\\xa0mphMostly cloudy skies early will become partly cloudy later in the day. High 62F. Winds light and variable.HumidityHumidity81%UV LevelUV Index3 of 11Sun RiseSunrise8:08 amSunsetSunset7:04 pmSun 13 | Night51°Partly Cloudy NightRain14%WindESE 5\\xa0mphPartly cloudy. Low 51F. Winds light and variable.HumidityHumidity88%UV LevelUV Index0 of 11Moon RiseMoonrise5:38 pmMoon Phase - Day 10Waxing GibbousMoon SetMoonset2:15 amMon 14Mostly CloudyMostly Cloudy63°/56°Rain24%WindSE 7\\xa0mphArrow DownMon 14 | Day63°Mostly CloudyRain24%WindSE 7\\xa0mphMostly cloudy skies. High 63F. Winds SE at 5 to 10 mph.HumidityHumidity85%UV LevelUV Index2 of 11Sun RiseSunrise8:09 amSunsetSunset7:02 pmMon 14 | Night56°Scattered ShowersRain40%WindESE 6\\xa0mphCloudy with occasional showers. Low 56F. Winds light and variable. Chance of rain 40%.HumidityHumidity92%UV LevelUV Index0 of 11Moon RiseMoonrise5:56 pmMoon Phase - Day 11Waxing GibbousMoon SetMoonset3:42 amTue 15Scattered ShowersAM Showers68°/58°Rain39%WindSE 9\\xa0mphArrow DownTue 15 | Day68°Scattered ShowersRain39%WindSE 9\\xa0mphRain showers early with overcast skies later in the day. High 68F. Winds SE at 5 to 10 mph. Chance of rain 40%.HumidityHumidity86%UV LevelUV Index2 of 11Sun RiseSunrise8:11 amSunsetSunset7:00 pmTue 15 | Night58°Mostly Cloudy NightRain24%WindSSE 8\\xa0mphConsiderable cloudiness. Low 58F. Winds SSE at 5 to 10 mph.HumidityHumidity90%UV LevelUV Index0 of 11Moon RiseMoonrise6:12 pmMoon Phase - Day 12Waxing GibbousMoon SetMoonset5:09 amWed 16Partly CloudyPartly Cloudy70°/57°Rain24%WindSSE 10\\xa0mphArrow DownWed 16 | Day70°Partly CloudyRain24%WindSSE 10\\xa0mphPartly to mostly cloudy. High around 70F. Winds SSE at 5 to 10 mph.HumidityHumidity81%UV LevelUV Index2 of 11Sun RiseSunrise8:12 amSunsetSunset6:58 pmWed 16 | Night57°Scattered ShowersRain48%WindS 8\\xa0mphCloudy with occasional rain showers. Low 57F. Winds S at 5 to 10 mph. Chance of rain 50%.HumidityHumidity86%UV LevelUV Index0 of 11Moon RiseMoonrise6:28 pmMoon Phase - Day 13Waxing GibbousMoon SetMoonset6:36 amThu 17Scattered ShowersAM Showers64°/55°Rain48%WindSE 8\\xa0mphArrow DownThu 17 | Day64°Scattered ShowersRain48%WindSE 8\\xa0mphRain showers early with mostly cloudy conditions later in the day. High 64F. Winds SE at 5 to 10 mph. Chance of rain 50%.HumidityHumidity85%UV LevelUV Index2 of 11Sun RiseSunrise8:14 amSunsetSunset6:56 pmThu 17 | Night55°Scattered Showers NightRain46%WindSE 8\\xa0mphIncreasing clouds with showers arriving sometime after midnight. Low around 55F. Winds SE at 5 to 10 mph. Chance of rain 50%.HumidityHumidity91%UV LevelUV Index0 of 11Moon RiseMoonrise6:46 pmMoon Phase - Day 15Full MoonMoon SetMoonset8:05 amFri 18Scattered ShowersShowers64°/55°Rain45%WindS 9\\xa0mphArrow DownFri 18 | Day64°Scattered ShowersRain45%WindS 9\\xa0mphShowers early becoming less numerous later in the day. High 64F. Winds S at 5 to 10 mph. Chance of rain 50%.HumidityHumidity87%UV LevelUV Index2 of 11Sun RiseSunrise8:15 amSunsetSunset6:54 pmFri 18 | Night55°Scattered Showers NightRain38%WindSSW 7\\xa0mphMostly cloudy with some showers late. Low near 55F. Winds SSW at 5 to 10 mph. Chance of rain 40%.HumidityHumidity91%UV LevelUV Index0 of 11Moon RiseMoonrise7:08 pmMoon Phase - Day 16Waning GibbousMoon SetMoonset9:36 amSat 19Scattered ShowersAM Showers62°/54°Rain39%WindSSW 10\\xa0mphArrow DownSat 19 | Day62°Scattered ShowersRain39%WindSSW 10\\xa0mphRain showers early with some sunshine later in the day. High 62F. Winds SSW at 5 to 10 mph. Chance of rain 40%.HumidityHumidity88%UV LevelUV Index2 of 11Sun RiseSunrise8:17 amSunsetSunset6:52 pmSat 19 | Night54°Scattered Showers NightRain34%WindSSW 8\\xa0mphMostly cloudy during the evening. A few showers developing late. Low 54F. Winds SSW at 5 to 10 mph. Chance of rain 30%.HumidityHumidity89%UV LevelUV Index0 of 11Moon RiseMoonrise7:36 pmMoon Phase - Day 17Waning GibbousMoon SetMoonset11:07 amSun 20Scattered ShowersAM Showers60°/51°Rain34%WindSSW 10\\xa0mphArrow DownSun 20 | Day60°Scattered ShowersRain34%WindSSW 10\\xa0mphA few showers early with mostly cloudy conditions later in the day. High around 60F. Winds SSW at 5 to 10 mph. Chance of rain 30%.HumidityHumidity85%UV LevelUV Index2 of 11Sun RiseSunrise8:19 amSunsetSunset6:50 pmSun 20 | Night51°Partly Cloudy NightRain24%WindSSW 8\\xa0mphMostly cloudy skies early, then partly cloudy after midnight. Low 51F. Winds SSW at 5 to 10 mph.HumidityHumidity90%UV LevelUV Index0 of 11Moon RiseMoonrise8:13 pmMoon Phase - Day 18Waning GibbousMoon SetMoonset12:34 pmMon 21Partly CloudyPartly Cloudy60°/50°Rain24%WindSSW 9\\xa0mphArrow DownMon 21 | Day60°Partly CloudyRain24%WindSSW 9\\xa0mphPartly to mostly cloudy. High near 60F. Winds SSW at 5 to 10 mph.HumidityHumidity84%UV LevelUV Index2 of 11Sun RiseSunrise8:20 amSunsetSunset6:48 pmMon 21 | Night50°Scattered Showers NightRain34%WindSSW 7\\xa0mphPartly cloudy skies early giving way to a few showers after midnight. Low around 50F. Winds SSW at 5 to 10 mph. Chance of rain 30%.HumidityHumidity88%UV LevelUV Index0 of 11Moon RiseMoonrise9:04 pmMoon Phase - Day 19Waning GibbousMoon SetMoonset1:52 pmTue 22Scattered ShowersAM Showers59°/49°Rain36%WindSSW 9\\xa0mphArrow DownTue 22 | Day59°Scattered ShowersRain36%WindSSW 9\\xa0mphShowers in the morning, then partly cloudy in the afternoon. High 59F. Winds SSW at 5 to 10 mph. Chance of rain 40%.HumidityHumidity82%UV LevelUV Index2 of 11Sun RiseSunrise8:22 amSunsetSunset6:46 pmTue 22 | Night49°Partly Cloudy NightRain24%WindSSW 7\\xa0mphA few clouds from time to time. Low 49F. Winds SSW at 5 to 10 mph.HumidityHumidity87%UV LevelUV Index0 of 11Moon RiseMoonrise10:08 pmMoon Phase - Day 20Waning GibbousMoon SetMoonset2:52 pmAdvertisementDon't MissVideoMilton To Reach Florida As An Extremely Dangerous Major HurricaneVideoMilton's Forecast Threats, Spaghetti Models, ConeVideoEvacuations Cause Traffic Jam Along I-275 In FloridaVideoUp To 15' Storm Surge Possible: Where To Expect The WorstSee MoreRadarNow9:45 am10:15 am10:45 am11:15 am11:45 am12:15 pm12:45 pm1:15 pm1:45 pm2:15 pm2:45 pm3:15 pmMapbox Logo© 2024 Mapbox\\xa0© OpenStreetMap|Improve this mapAdvertisementAdvertisementSeasonal Skin SolutionsVideoHidden Skin Health Dangers Lurk In A Hurricane's PathSimple, Seasonal Skin Care: Easy Changes To Make For FallVideoProtect Your Skin This Season With Tricks For Fall WeatherIs Your Skin Ready For Fall? The Rejuvenating Post-Summer Skin Care You NeedSee MoreHome, Garage & GardenVideoCan The Sun Remove Stains And Deodorize Your Clothes?Video4 Reasons Why Fall Is The Best Season To Get A New RoofVideoHere’s How To Protect Your Home From Autumn House PestsVideoFall Yard Checklist: Seed, Clean, DecorateSee MoreAdvertisementThat's Not What Was ExpectedVideoClouds Cascade Through Mountain Pass In Surreal SceneVideoHow A 2023 Storm Led To Millions Of Dead Fish In GreeceVideoWatch Michigan Storms Light Up On SatelliteVideoDriver Narrowly Escapes Crumbling WallSee MoreOutsideVideoSunburn Relief: Why Aloe Vera May Soothe But Doesn’t CureVideoHiker Rescued After 10 Days Lost In California MountainsVideoBike Lanes Can Calm Busy TrafficVideoHow To Avoid A Shark AttackSee MoreAdvertisementAdvertisementAdvertisementAdvertisementAdvertisementAn Unusual TrackVideoWhat’s Steering Hurricane Milton On Its Eastward Track?AdvertisementTo Infinity & BeyondVideoRecord-Breaking Solar Flare: Stunning Images & Tech ImpactVideoOctober Serves Up Meteor Showers And A Comet For StargazersVideoHurricane Helene’s Landfall Seen On SatelliteVideoStunning Time-lapse Captures Comet Hurtling Towards The SunSee MoreAdvertisementFlu's Deadly TollVideoRecord Number Of Kids Dying From FluAdvertisementStay SafeAdvertisementAir Quality Index25GoodAir quality is considered satisfactory, and air pollution poses little or no risk.See DetailsHealth & ActivitiesGrassSeasonal Allergies and Pollen Count ForecastRagweed pollen is moderate in your areaArrow RightWeather UndergroundFeedbackMissionCareersNews RoomAdvertise With UsTVNewsletter Sign UpTerms of UsePrivacy PolicyAdChoicesAd ChoicesAccessibility StatementData VendorsGeorgiaeSSENTIAL AccessibilityWe recognize our responsibility to use data and technology for good. We may use or share your data with our data vendors. Take control of your data.Cookie SettingsData Rights© The Weather Company, LLC 2024Hidden Weather Icon MasksHidden Weather Icon Symbols\")]"
      ]
     },
     "execution_count": 4,
     "metadata": {},
     "output_type": "execute_result"
    }
   ],
   "source": [
    "docs"
   ]
  },
  {
   "cell_type": "code",
   "execution_count": 5,
   "metadata": {},
   "outputs": [
    {
     "name": "stdout",
     "output_type": "stream",
     "text": [
      "\n",
      "\n",
      "\n",
      "10-Day Weather Forecast for Paris, France - The Weather Channel | weather.com\n",
      "\n",
      "\n",
      "\n",
      "\n",
      "\n",
      "\n",
      "\n",
      "AdvertisementAdvertisementSkip to Main ContentAccessibility HelpThe Weather ChannelType at least three characters to start auto complete. Recently searched locations will be displayed if there is no search query. The first option will be automatically selected. Use up and down arrows to change selection. Use escape to clear.Search City or Zip CodeSearchrecentsClear AllYou have no recent locationsGlobeUS°FArrow down°F°CHybridImperial - F / mph / miles / inchesAmericasArrow DownAntigua and Barbuda | EnglishArgentina | EspañolBahamas | EnglishBarbados | EnglishBelize | EnglishBolivia | EspañolBrazil | PortuguêsCanada | EnglishCanada | FrançaisChile | EspañolColombia | EspañolCosta Rica | EspañolDominica | EnglishDominican Republic | EspañolEcuador | EspañolEl Salvador | EspañolGrenada | EnglishGuatemala | EspañolGuyana | EnglishHaiti | FrançaisHonduras | EspañolJamaica | EnglishMexico | EspañolNicaragua | EspañolPanama | EspañolPanama | EnglishParaguay | EspañolPeru | EspañolSt. Kitts and Nevis | EnglishSt. Lucia | EnglishSt. Vincent and the Grenadines | EnglishSuriname | NederlandsTrinidad and Tobago | EnglishUruguay | EspañolUnited States | EnglishUnited States | EspañolVenezuela | EspañolAfricaArrow DownAlgeria | العربيةAlgeria | FrançaisAngola | PortuguêsBenin | FrançaisBurkina Faso | FrançaisBurundi | FrançaisCameroon | FrançaisCameroon | EnglishCape Verde | PortuguêsCentral African Republic | FrançaisChad | FrançaisChad | العربيةComoros | FrançaisComoros | العربيةDemocratic Republic of the Congo | FrançaisRepublic of Congo | FrançaisCôte d'Ivoire | FrançaisDjibouti | FrançaisDjibouti | العربيةEgypt | العربيةEquatorial Guinea | EspañolEritrea | العربيةGabon | FrançaisGambia | EnglishGhana | EnglishGuinea | FrançaisGuinea-Bissau | PortuguêsKenya | EnglishLesotho | EnglishLiberia | EnglishLibya | العربيةMadagascar | FrançaisMali | FrançaisMauritania | العربيةMauritius | EnglishMauritius | FrançaisMorocco | العربيةMorocco | FrançaisMozambique | PortuguêsNamibia | EnglishNiger | FrançaisNigeria | EnglishRwanda | FrançaisRwanda | EnglishSao Tome and Principe | PortuguêsSenegal | FrançaisSierra Leone | EnglishSomalia | العربيةSouth Africa | EnglishSouth Sudan | EnglishSudan | العربيةSwaziland | EnglishTanzania | EnglishTogo | FrançaisTunisia | العربيةUganda | EnglishAsia PacificArrow DownAustralia | EnglishBangladesh | বাংলাBrunei | Bahasa MelayuChina | 中文Hong Kong SAR | 中文East Timor | PortuguêsFiji | EnglishIndia (English) | EnglishIndia (Hindi) | हिन्दीIndonesia | Bahasa IndonesiaJapan | 日本語Kiribati | EnglishSouth Korea | 한국어Kyrgyzstan | РусскийMalaysia | Bahasa MelayuMarshall Islands | EnglishMicronesia | EnglishNew Zealand | EnglishPalau | EnglishPhilippines | EnglishPhilippines | TagalogSamoa | EnglishSingapore | EnglishSingapore | 中文Solomon Islands | EnglishTaiwan | 中文Thailand | ไทยTonga | EnglishTuvalu | EnglishVanuatu | EnglishVanuatu | FrançaisVietnam | Tiếng ViệtEuropeArrow DownAndorra | CatalàAndorra | FrançaisAustria | DeutschBelarus | РусскийBelgium | DutchBelgium | FrançaisBosnia and Herzegovina | HrvatskiCroatia | HrvatskiCyprus | ΕλληνικάCzech Republic | ČeštinaDenmark | DanskEstonia | РусскийEstonia | EestiFinland | SuomiFrance | FrançaisGermany | DeutschGreece | ΕλληνικάHungary | MagyarIreland | EnglishItaly | ItalianoLiechtenstein | DeutschLuxembourg | FrançaisMalta | EnglishMonaco | FrançaisNetherlands | NederlandsNorway | NorskPoland | PolskiPortugal | PortuguêsRomania | RomânăRussia | РусскийSan Marino | ItalianoSlovakia | SlovenčinaSpain | EspañolSpain | CatalàSweden | SvenskaSwitzerland | DeutschTurkey | TurkçeUkraine | УкраїнськаUnited Kingdom | EnglishState of Vatican City (Holy See) | ItalianoMiddle EastArrow DownBahrain | العربيةIran |  فارسىIraq | العربيةIsrael | עִבְרִיתJordan | العربيةKuwait | العربيةLebanon | العربيةOman | العربيةPakistan |  اردوPakistan | EnglishQatar | العربيةSaudi Arabia | العربيةSyria | العربيةUnited Arab Emirates | العربيةWeather ForecastsTodayHourly10 DayWeekendMonthly & AlmanacYesterdayExternal LinkRadar & MapsInteractive Radar MapUS ForecastUS Satellite & RadarWorld SatelliteUS Severe AlertsUS HealthNews & MediaTop Weather StoriesHurricane CentralScience & EnvironmentSpace & SkywatchingSafety & PrepVideosProductsAlexa SkillExternal LinkWeather UndergroundExternal LinkStorm RadarExternal LinkHealth & WellnessHealthEczemaPsoriasisDiabetesHealthy LivingAllergy TrackerAir Quality IndexCold & Flu TrackerSkin HealthPrivacyCookie SettingsData RightsPrivacy PolicyLifestyleGrilling SeasonHome & GardenTravel & OutdoorsPets & AnimalsGamesNEWExternal LinkPartly Cloudy57°Paris, FranceArrow LeftArrow RightMy DashboardNEWTodayHourly10 DayWeekendMonthlyRadarHurricaneMiltonMore ForecastsMoreArrow downSpecialty ForecastsYesterday's WeatherExternal LinkAllergy TrackerCold & FluAir Quality ForecastLive UpdatesMilton Could Deliver Worst Hit To Tampa Bay In 100 YearsAdvertisement10 Day Weather-Paris, FranceAs of 9:01 am CESTalertLevel2Moderate Warning for Thunderstorm +1 MoreTodayPartly CloudyAM Clouds/PM Sun66°/56°Rain15%WindSSW 14 mphArrow UpTue 08 | Day66°Partly CloudyRain15%WindSSW 14 mphCloudy early with peeks of sunshine expected late. High 66F. Winds SSW at 10 to 20 mph.HumidityHumidity79%UV LevelUV Index3 of 11Sun RiseSunrise8:00 amSunsetSunset7:14 pmTue 08 | Night56°RainRain95%WindSSW 12 mphShowers this evening, becoming a steady rain overnight. Low 56F. Winds SSW at 10 to 15 mph. Chance of rain 100%.  Locally heavy rainfall possible.HumidityHumidity87%UV LevelUV Index0 of 11Moon RiseMoonrise2:20 pmMoon Phase - Day 5Waxing CrescentMoon SetMoonset9:31 pmWed 09RainRain60°/54°Rain99%WindSSW 8 mphArrow DownWed 09 | Day60°RainRain99%WindSSW 8 mphCloudy with periods of rain. High around 60F. Winds SSW at 5 to 10 mph. Chance of rain 100%. Rainfall may reach one inch.  Localized flooding is possible.HumidityHumidity95%UV LevelUV Index1 of 11Sun RiseSunrise8:02 amSunsetSunset7:12 pmWed 09 | Night54°RainRain97%WindNW 9 mphA steady rain in the evening. Showers continuing late. Low 54F. Winds NW at 5 to 10 mph. Chance of rain 100%. Rainfall around a half an inch.  Localized flooding is possible.HumidityHumidity96%UV LevelUV Index0 of 11Moon RiseMoonrise3:21 pmMoon Phase - Day 6Waxing CrescentMoon SetMoonset10:24 pmThu 10Scattered ShowersShowers58°/47°Rain59%WindWNW 8 mphArrow DownThu 10 | Day58°Scattered ShowersRain59%WindWNW 8 mphSteady light rain in the morning. Showers continuing in the afternoon. High 58F. Winds WNW at 5 to 10 mph. Chance of rain 60%.HumidityHumidity85%UV LevelUV Index2 of 11Sun RiseSunrise8:03 amSunsetSunset7:10 pmThu 10 | Night47°Scattered Showers NightRain32%WindNNW 6 mphA few showers early with mostly cloudy conditions late. Low 47F. Winds light and variable. Chance of rain 30%.HumidityHumidity88%UV LevelUV Index0 of 11Moon RiseMoonrise4:10 pmMoon Phase - Day 7First QuarterMoon SetMoonset11:33 pmFri 11Partly CloudyPartly Cloudy57°/44°Rain13%WindENE 4 mphArrow DownFri 11 | Day57°Partly CloudyRain13%WindENE 4 mphPartly cloudy skies. High 57F. Winds light and variable.HumidityHumidity78%UV LevelUV Index3 of 11Sun RiseSunrise8:05 amSunsetSunset7:08 pmFri 11 | Night44°Partly Cloudy NightRain7%WindE 5 mphPartly cloudy. Low 44F. Winds light and variable.HumidityHumidity85%UV LevelUV Index0 of 11Moon RiseMoonrise4:47 pmMoon Phase - Day 8Waxing GibbousMoon SetMoonset--Sat 12Scattered ShowersPM Showers57°/46°Rain34%WindE 5 mphArrow DownSat 12 | Day57°Scattered ShowersRain34%WindE 5 mphMostly cloudy skies early. A few showers developing later in the day. High 57F. Winds light and variable. Chance of rain 30%.HumidityHumidity82%UV LevelUV Index2 of 11Sun RiseSunrise8:06 amSunsetSunset7:06 pmSat 12 | Night46°Partly Cloudy NightRain24%WindNNE 4 mphPartly cloudy skies. Low 46F. Winds light and variable.HumidityHumidity91%UV LevelUV Index0 of 11Moon RiseMoonrise5:16 pmMoon Phase - Day 9Waxing GibbousMoon SetMoonset12:51 amSun 13Partly CloudyPartly Cloudy62°/51°Rain8%WindENE 6 mphArrow DownSun 13 | Day62°Partly CloudyRain8%WindENE 6 mphMostly cloudy skies early will become partly cloudy later in the day. High 62F. Winds light and variable.HumidityHumidity81%UV LevelUV Index3 of 11Sun RiseSunrise8:08 amSunsetSunset7:04 pmSun 13 | Night51°Partly Cloudy NightRain14%WindESE 5 mphPartly cloudy. Low 51F. Winds light and variable.HumidityHumidity88%UV LevelUV Index0 of 11Moon RiseMoonrise5:38 pmMoon Phase - Day 10Waxing GibbousMoon SetMoonset2:15 amMon 14Mostly CloudyMostly Cloudy63°/56°Rain24%WindSE 7 mphArrow DownMon 14 | Day63°Mostly CloudyRain24%WindSE 7 mphMostly cloudy skies. High 63F. Winds SE at 5 to 10 mph.HumidityHumidity85%UV LevelUV Index2 of 11Sun RiseSunrise8:09 amSunsetSunset7:02 pmMon 14 | Night56°Scattered ShowersRain40%WindESE 6 mphCloudy with occasional showers. Low 56F. Winds light and variable. Chance of rain 40%.HumidityHumidity92%UV LevelUV Index0 of 11Moon RiseMoonrise5:56 pmMoon Phase - Day 11Waxing GibbousMoon SetMoonset3:42 amTue 15Scattered ShowersAM Showers68°/58°Rain39%WindSE 9 mphArrow DownTue 15 | Day68°Scattered ShowersRain39%WindSE 9 mphRain showers early with overcast skies later in the day. High 68F. Winds SE at 5 to 10 mph. Chance of rain 40%.HumidityHumidity86%UV LevelUV Index2 of 11Sun RiseSunrise8:11 amSunsetSunset7:00 pmTue 15 | Night58°Mostly Cloudy NightRain24%WindSSE 8 mphConsiderable cloudiness. Low 58F. Winds SSE at 5 to 10 mph.HumidityHumidity90%UV LevelUV Index0 of 11Moon RiseMoonrise6:12 pmMoon Phase - Day 12Waxing GibbousMoon SetMoonset5:09 amWed 16Partly CloudyPartly Cloudy70°/57°Rain24%WindSSE 10 mphArrow DownWed 16 | Day70°Partly CloudyRain24%WindSSE 10 mphPartly to mostly cloudy. High around 70F. Winds SSE at 5 to 10 mph.HumidityHumidity81%UV LevelUV Index2 of 11Sun RiseSunrise8:12 amSunsetSunset6:58 pmWed 16 | Night57°Scattered ShowersRain48%WindS 8 mphCloudy with occasional rain showers. Low 57F. Winds S at 5 to 10 mph. Chance of rain 50%.HumidityHumidity86%UV LevelUV Index0 of 11Moon RiseMoonrise6:28 pmMoon Phase - Day 13Waxing GibbousMoon SetMoonset6:36 amThu 17Scattered ShowersAM Showers64°/55°Rain48%WindSE 8 mphArrow DownThu 17 | Day64°Scattered ShowersRain48%WindSE 8 mphRain showers early with mostly cloudy conditions later in the day. High 64F. Winds SE at 5 to 10 mph. Chance of rain 50%.HumidityHumidity85%UV LevelUV Index2 of 11Sun RiseSunrise8:14 amSunsetSunset6:56 pmThu 17 | Night55°Scattered Showers NightRain46%WindSE 8 mphIncreasing clouds with showers arriving sometime after midnight. Low around 55F. Winds SE at 5 to 10 mph. Chance of rain 50%.HumidityHumidity91%UV LevelUV Index0 of 11Moon RiseMoonrise6:46 pmMoon Phase - Day 15Full MoonMoon SetMoonset8:05 amFri 18Scattered ShowersShowers64°/55°Rain45%WindS 9 mphArrow DownFri 18 | Day64°Scattered ShowersRain45%WindS 9 mphShowers early becoming less numerous later in the day. High 64F. Winds S at 5 to 10 mph. Chance of rain 50%.HumidityHumidity87%UV LevelUV Index2 of 11Sun RiseSunrise8:15 amSunsetSunset6:54 pmFri 18 | Night55°Scattered Showers NightRain38%WindSSW 7 mphMostly cloudy with some showers late. Low near 55F. Winds SSW at 5 to 10 mph. Chance of rain 40%.HumidityHumidity91%UV LevelUV Index0 of 11Moon RiseMoonrise7:08 pmMoon Phase - Day 16Waning GibbousMoon SetMoonset9:36 amSat 19Scattered ShowersAM Showers62°/54°Rain39%WindSSW 10 mphArrow DownSat 19 | Day62°Scattered ShowersRain39%WindSSW 10 mphRain showers early with some sunshine later in the day. High 62F. Winds SSW at 5 to 10 mph. Chance of rain 40%.HumidityHumidity88%UV LevelUV Index2 of 11Sun RiseSunrise8:17 amSunsetSunset6:52 pmSat 19 | Night54°Scattered Showers NightRain34%WindSSW 8 mphMostly cloudy during the evening. A few showers developing late. Low 54F. Winds SSW at 5 to 10 mph. Chance of rain 30%.HumidityHumidity89%UV LevelUV Index0 of 11Moon RiseMoonrise7:36 pmMoon Phase - Day 17Waning GibbousMoon SetMoonset11:07 amSun 20Scattered ShowersAM Showers60°/51°Rain34%WindSSW 10 mphArrow DownSun 20 | Day60°Scattered ShowersRain34%WindSSW 10 mphA few showers early with mostly cloudy conditions later in the day. High around 60F. Winds SSW at 5 to 10 mph. Chance of rain 30%.HumidityHumidity85%UV LevelUV Index2 of 11Sun RiseSunrise8:19 amSunsetSunset6:50 pmSun 20 | Night51°Partly Cloudy NightRain24%WindSSW 8 mphMostly cloudy skies early, then partly cloudy after midnight. Low 51F. Winds SSW at 5 to 10 mph.HumidityHumidity90%UV LevelUV Index0 of 11Moon RiseMoonrise8:13 pmMoon Phase - Day 18Waning GibbousMoon SetMoonset12:34 pmMon 21Partly CloudyPartly Cloudy60°/50°Rain24%WindSSW 9 mphArrow DownMon 21 | Day60°Partly CloudyRain24%WindSSW 9 mphPartly to mostly cloudy. High near 60F. Winds SSW at 5 to 10 mph.HumidityHumidity84%UV LevelUV Index2 of 11Sun RiseSunrise8:20 amSunsetSunset6:48 pmMon 21 | Night50°Scattered Showers NightRain34%WindSSW 7 mphPartly cloudy skies early giving way to a few showers after midnight. Low around 50F. Winds SSW at 5 to 10 mph. Chance of rain 30%.HumidityHumidity88%UV LevelUV Index0 of 11Moon RiseMoonrise9:04 pmMoon Phase - Day 19Waning GibbousMoon SetMoonset1:52 pmTue 22Scattered ShowersAM Showers59°/49°Rain36%WindSSW 9 mphArrow DownTue 22 | Day59°Scattered ShowersRain36%WindSSW 9 mphShowers in the morning, then partly cloudy in the afternoon. High 59F. Winds SSW at 5 to 10 mph. Chance of rain 40%.HumidityHumidity82%UV LevelUV Index2 of 11Sun RiseSunrise8:22 amSunsetSunset6:46 pmTue 22 | Night49°Partly Cloudy NightRain24%WindSSW 7 mphA few clouds from time to time. Low 49F. Winds SSW at 5 to 10 mph.HumidityHumidity87%UV LevelUV Index0 of 11Moon RiseMoonrise10:08 pmMoon Phase - Day 20Waning GibbousMoon SetMoonset2:52 pmAdvertisementDon't MissVideoMilton To Reach Florida As An Extremely Dangerous Major HurricaneVideoMilton's Forecast Threats, Spaghetti Models, ConeVideoEvacuations Cause Traffic Jam Along I-275 In FloridaVideoUp To 15' Storm Surge Possible: Where To Expect The WorstSee MoreRadarNow9:45 am10:15 am10:45 am11:15 am11:45 am12:15 pm12:45 pm1:15 pm1:45 pm2:15 pm2:45 pm3:15 pmMapbox Logo© 2024 Mapbox © OpenStreetMap|Improve this mapAdvertisementAdvertisementSeasonal Skin SolutionsVideoHidden Skin Health Dangers Lurk In A Hurricane's PathSimple, Seasonal Skin Care: Easy Changes To Make For FallVideoProtect Your Skin This Season With Tricks For Fall WeatherIs Your Skin Ready For Fall? The Rejuvenating Post-Summer Skin Care You NeedSee MoreHome, Garage & GardenVideoCan The Sun Remove Stains And Deodorize Your Clothes?Video4 Reasons Why Fall Is The Best Season To Get A New RoofVideoHere’s How To Protect Your Home From Autumn House PestsVideoFall Yard Checklist: Seed, Clean, DecorateSee MoreAdvertisementThat's Not What Was ExpectedVideoClouds Cascade Through Mountain Pass In Surreal SceneVideoHow A 2023 Storm Led To Millions Of Dead Fish In GreeceVideoWatch Michigan Storms Light Up On SatelliteVideoDriver Narrowly Escapes Crumbling WallSee MoreOutsideVideoSunburn Relief: Why Aloe Vera May Soothe But Doesn’t CureVideoHiker Rescued After 10 Days Lost In California MountainsVideoBike Lanes Can Calm Busy TrafficVideoHow To Avoid A Shark AttackSee MoreAdvertisementAdvertisementAdvertisementAdvertisementAdvertisementAn Unusual TrackVideoWhat’s Steering Hurricane Milton On Its Eastward Track?AdvertisementTo Infinity & BeyondVideoRecord-Breaking Solar Flare: Stunning Images & Tech ImpactVideoOctober Serves Up Meteor Showers And A Comet For StargazersVideoHurricane Helene’s Landfall Seen On SatelliteVideoStunning Time-lapse Captures Comet Hurtling Towards The SunSee MoreAdvertisementFlu's Deadly TollVideoRecord Number Of Kids Dying From FluAdvertisementStay SafeAdvertisementAir Quality Index25GoodAir quality is considered satisfactory, and air pollution poses little or no risk.See DetailsHealth & ActivitiesGrassSeasonal Allergies and Pollen Count ForecastRagweed pollen is moderate in your areaArrow RightWeather UndergroundFeedbackMissionCareersNews RoomAdvertise With UsTVNewsletter Sign UpTerms of UsePrivacy PolicyAdChoicesAd ChoicesAccessibility StatementData VendorsGeorgiaeSSENTIAL AccessibilityWe recognize our responsibility to use data and technology for good. We may use or share your data with our data vendors. Take control of your data.Cookie SettingsData Rights© The Weather Company, LLC 2024Hidden Weather Icon MasksHidden Weather Icon Symbols\n"
     ]
    }
   ],
   "source": [
    "for doc in docs:\n",
    "    print(doc.page_content)"
   ]
  },
  {
   "cell_type": "code",
   "execution_count": 6,
   "metadata": {},
   "outputs": [
    {
     "data": {
      "text/plain": [
       "1"
      ]
     },
     "execution_count": 6,
     "metadata": {},
     "output_type": "execute_result"
    }
   ],
   "source": [
    "len(docs)"
   ]
  },
  {
   "cell_type": "code",
   "execution_count": 7,
   "metadata": {},
   "outputs": [
    {
     "data": {
      "text/plain": [
       "\"\\n\\n\\n10-Day Weather Forecast for Paris, France - The Weather Channel | weather.com\\n\\n\\n\\n\\n\\n\\n\\nAdvertisementAdvertisementSkip to Main ContentAccessibility HelpThe Weather ChannelType at least three characters to start auto complete. Recently searched locations will be displayed if there is no search query. The first option will be automatically selected. Use up and down arrows to change selection. Use escape to clear.Search City or Zip CodeSearchrecentsClear AllYou have no recent locationsGlobeUS°FArrow down°F°CHybridImperial - F / mph / miles / inchesAmericasArrow DownAntigua and Barbuda | EnglishArgentina | EspañolBahamas | EnglishBarbados | EnglishBelize | EnglishBolivia | EspañolBrazil | PortuguêsCanada | EnglishCanada | FrançaisChile | EspañolColombia | EspañolCosta Rica | EspañolDominica | EnglishDominican Republic | EspañolEcuador | EspañolEl Salvador | EspañolGrenada | EnglishGuatemala | EspañolGuyana | EnglishHaiti | FrançaisHonduras | EspañolJamaica | EnglishMexico | EspañolNicaragua | EspañolPanama | EspañolPanama | EnglishParaguay | EspañolPeru | EspañolSt. Kitts and Nevis | EnglishSt. Lucia | EnglishSt. Vincent and the Grenadines | EnglishSuriname | NederlandsTrinidad and Tobago | EnglishUruguay | EspañolUnited States | EnglishUnited States | EspañolVenezuela | EspañolAfricaArrow DownAlgeria | العربيةAlgeria | FrançaisAngola | PortuguêsBenin | FrançaisBurkina Faso | FrançaisBurundi | FrançaisCameroon | FrançaisCameroon | EnglishCape Verde | PortuguêsCentral African Republic | FrançaisChad | FrançaisChad | العربيةComoros | FrançaisComoros | العربيةDemocratic Republic of the Congo | FrançaisRepublic of Congo | FrançaisCôte d'Ivoire | FrançaisDjibouti | FrançaisDjibouti | العربيةEgypt | العربيةEquatorial Guinea | EspañolEritrea | العربيةGabon | FrançaisGambia | EnglishGhana | EnglishGuinea | FrançaisGuinea-Bissau | PortuguêsKenya | EnglishLesotho | EnglishLiberia | EnglishLibya | العربيةMadagascar | FrançaisMali | FrançaisMauritania | العربيةMauritius | EnglishMauritius | FrançaisMorocco | العربيةMorocco | FrançaisMozambique | PortuguêsNamibia | EnglishNiger | FrançaisNigeria | EnglishRwanda | FrançaisRwanda | EnglishSao Tome and Principe | PortuguêsSenegal | FrançaisSierra Leone | EnglishSomalia | العربيةSouth Africa | EnglishSouth Sudan | EnglishSudan | العربيةSwaziland | EnglishTanzania | EnglishTogo | FrançaisTunisia | العربيةUganda | EnglishAsia PacificArrow DownAustralia | EnglishBangladesh | বাংলাBrunei | Bahasa MelayuChina | 中文Hong Kong SAR | 中文East Timor | PortuguêsFiji | EnglishIndia (English) | EnglishIndia (Hindi) | हिन्दीIndonesia | Bahasa IndonesiaJapan | 日本語Kiribati | EnglishSouth Korea | 한국어Kyrgyzstan | РусскийMalaysia | Bahasa MelayuMarshall Islands | EnglishMicronesia | EnglishNew Zealand | EnglishPalau | EnglishPhilippines | EnglishPhilippines | TagalogSamoa | EnglishSingapore | EnglishSingapore | 中文Solomon Islands | EnglishTaiwan | 中文Thailand | ไทยTonga | EnglishTuvalu | EnglishVanuatu | EnglishVanuatu | FrançaisVietnam | Tiếng ViệtEuropeArrow DownAndorra | CatalàAndorra | FrançaisAustria | DeutschBelarus | РусскийBelgium | DutchBelgium | FrançaisBosnia and Herzegovina | HrvatskiCroatia | HrvatskiCyprus | ΕλληνικάCzech Republic | ČeštinaDenmark | DanskEstonia | РусскийEstonia | EestiFinland | SuomiFrance | FrançaisGermany | DeutschGreece | ΕλληνικάHungary | MagyarIreland | EnglishItaly | ItalianoLiechtenstein | DeutschLuxembourg | FrançaisMalta | EnglishMonaco | FrançaisNetherlands | NederlandsNorway | NorskPoland | PolskiPortugal | PortuguêsRomania | RomânăRussia | РусскийSan Marino | ItalianoSlovakia | SlovenčinaSpain | EspañolSpain | CatalàSweden | SvenskaSwitzerland | DeutschTurkey | TurkçeUkraine | УкраїнськаUnited Kingdom | EnglishState of Vatican City (Holy See) | ItalianoMiddle EastArrow DownBahrain | العربيةIran |  فارسىIraq | العربيةIsrael | עִבְרִיתJordan | العربيةKuwait | العربيةLebanon | العربيةOman | العربيةPakistan |  اردوPakistan | EnglishQatar | العربيةSaudi Arabia | العربيةSyria | العربيةUnited Arab Emirates | العربيةWeather ForecastsTodayHourly10 DayWeekendMonthly & AlmanacYesterdayExternal LinkRadar & MapsInteractive Radar MapUS ForecastUS Satellite & RadarWorld SatelliteUS Severe AlertsUS HealthNews & MediaTop Weather StoriesHurricane CentralScience & EnvironmentSpace & SkywatchingSafety & PrepVideosProductsAlexa SkillExternal LinkWeather UndergroundExternal LinkStorm RadarExternal LinkHealth & WellnessHealthEczemaPsoriasisDiabetesHealthy LivingAllergy TrackerAir Quality IndexCold & Flu TrackerSkin HealthPrivacyCookie SettingsData RightsPrivacy PolicyLifestyleGrilling SeasonHome & GardenTravel & OutdoorsPets & AnimalsGamesNEWExternal LinkPartly Cloudy57°Paris, FranceArrow LeftArrow RightMy DashboardNEWTodayHourly10 DayWeekendMonthlyRadarHurricaneMiltonMore ForecastsMoreArrow downSpecialty ForecastsYesterday's WeatherExternal LinkAllergy TrackerCold & FluAir Quality ForecastLive UpdatesMilton Could Deliver Worst Hit To Tampa Bay In 100 YearsAdvertisement10 Day Weather-Paris, FranceAs of 9:01 am CESTalertLevel2Moderate Warning for Thunderstorm +1 MoreTodayPartly CloudyAM Clouds/PM Sun66°/56°Rain15%WindSSW 14\\xa0mphArrow UpTue 08 | Day66°Partly CloudyRain15%WindSSW 14\\xa0mphCloudy early with peeks of sunshine expected late. High 66F. Winds SSW at 10 to 20 mph.HumidityHumidity79%UV LevelUV Index3 of 11Sun RiseSunrise8:00 amSunsetSunset7:14 pmTue 08 | Night56°RainRain95%WindSSW 12\\xa0mphShowers this evening, becoming a steady rain overnight. Low 56F. Winds SSW at 10 to 15 mph. Chance of rain 100%.  Locally heavy rainfall possible.HumidityHumidity87%UV LevelUV Index0 of 11Moon RiseMoonrise2:20 pmMoon Phase - Day 5Waxing CrescentMoon SetMoonset9:31 pmWed 09RainRain60°/54°Rain99%WindSSW 8\\xa0mphArrow DownWed 09 | Day60°RainRain99%WindSSW 8\\xa0mphCloudy with periods of rain. High around 60F. Winds SSW at 5 to 10 mph. Chance of rain 100%. Rainfall may reach one inch.  Localized flooding is possible.HumidityHumidity95%UV LevelUV Index1 of 11Sun RiseSunrise8:02 amSunsetSunset7:12 pmWed 09 | Night54°RainRain97%WindNW 9\\xa0mphA steady rain in the evening. Showers continuing late. Low 54F. Winds NW at 5 to 10 mph. Chance of rain 100%. Rainfall around a half an inch.  Localized flooding is possible.HumidityHumidity96%UV LevelUV Index0 of 11Moon RiseMoonrise3:21 pmMoon Phase - Day 6Waxing CrescentMoon SetMoonset10:24 pmThu 10Scattered ShowersShowers58°/47°Rain59%WindWNW 8\\xa0mphArrow DownThu 10 | Day58°Scattered ShowersRain59%WindWNW 8\\xa0mphSteady light rain in the morning. Showers continuing in the afternoon. High 58F. Winds WNW at 5 to 10 mph. Chance of rain 60%.HumidityHumidity85%UV LevelUV Index2 of 11Sun RiseSunrise8:03 amSunsetSunset7:10 pmThu 10 | Night47°Scattered Showers NightRain32%WindNNW 6\\xa0mphA few showers early with mostly cloudy conditions late. Low 47F. Winds light and variable. Chance of rain 30%.HumidityHumidity88%UV LevelUV Index0 of 11Moon RiseMoonrise4:10 pmMoon Phase - Day 7First QuarterMoon SetMoonset11:33 pmFri 11Partly CloudyPartly Cloudy57°/44°Rain13%WindENE 4\\xa0mphArrow DownFri 11 | Day57°Partly CloudyRain13%WindENE 4\\xa0mphPartly cloudy skies. High 57F. Winds light and variable.HumidityHumidity78%UV LevelUV Index3 of 11Sun RiseSunrise8:05 amSunsetSunset7:08 pmFri 11 | Night44°Partly Cloudy NightRain7%WindE 5\\xa0mphPartly cloudy. Low 44F. Winds light and variable.HumidityHumidity85%UV LevelUV Index0 of 11Moon RiseMoonrise4:47 pmMoon Phase - Day 8Waxing GibbousMoon SetMoonset--Sat 12Scattered ShowersPM Showers57°/46°Rain34%WindE 5\\xa0mphArrow DownSat 12 | Day57°Scattered ShowersRain34%WindE 5\\xa0mphMostly cloudy skies early. A few showers developing later in the day. High 57F. Winds light and variable. Chance of rain 30%.HumidityHumidity82%UV LevelUV Index2 of 11Sun RiseSunrise8:06 amSunsetSunset7:06 pmSat 12 | Night46°Partly Cloudy NightRain24%WindNNE 4\\xa0mphPartly cloudy skies. Low 46F. Winds light and variable.HumidityHumidity91%UV LevelUV Index0 of 11Moon RiseMoonrise5:16 pmMoon Phase - Day 9Waxing GibbousMoon SetMoonset12:51 amSun 13Partly CloudyPartly Cloudy62°/51°Rain8%WindENE 6\\xa0mphArrow DownSun 13 | Day62°Partly CloudyRain8%WindENE 6\\xa0mphMostly cloudy skies early will become partly cloudy later in the day. High 62F. Winds light and variable.HumidityHumidity81%UV LevelUV Index3 of 11Sun RiseSunrise8:08 amSunsetSunset7:04 pmSun 13 | Night51°Partly Cloudy NightRain14%WindESE 5\\xa0mphPartly cloudy. Low 51F. Winds light and variable.HumidityHumidity88%UV LevelUV Index0 of 11Moon RiseMoonrise5:38 pmMoon Phase - Day 10Waxing GibbousMoon SetMoonset2:15 amMon 14Mostly CloudyMostly Cloudy63°/56°Rain24%WindSE 7\\xa0mphArrow DownMon 14 | Day63°Mostly CloudyRain24%WindSE 7\\xa0mphMostly cloudy skies. High 63F. Winds SE at 5 to 10 mph.HumidityHumidity85%UV LevelUV Index2 of 11Sun RiseSunrise8:09 amSunsetSunset7:02 pmMon 14 | Night56°Scattered ShowersRain40%WindESE 6\\xa0mphCloudy with occasional showers. Low 56F. Winds light and variable. Chance of rain 40%.HumidityHumidity92%UV LevelUV Index0 of 11Moon RiseMoonrise5:56 pmMoon Phase - Day 11Waxing GibbousMoon SetMoonset3:42 amTue 15Scattered ShowersAM Showers68°/58°Rain39%WindSE 9\\xa0mphArrow DownTue 15 | Day68°Scattered ShowersRain39%WindSE 9\\xa0mphRain showers early with overcast skies later in the day. High 68F. Winds SE at 5 to 10 mph. Chance of rain 40%.HumidityHumidity86%UV LevelUV Index2 of 11Sun RiseSunrise8:11 amSunsetSunset7:00 pmTue 15 | Night58°Mostly Cloudy NightRain24%WindSSE 8\\xa0mphConsiderable cloudiness. Low 58F. Winds SSE at 5 to 10 mph.HumidityHumidity90%UV LevelUV Index0 of 11Moon RiseMoonrise6:12 pmMoon Phase - Day 12Waxing GibbousMoon SetMoonset5:09 amWed 16Partly CloudyPartly Cloudy70°/57°Rain24%WindSSE 10\\xa0mphArrow DownWed 16 | Day70°Partly CloudyRain24%WindSSE 10\\xa0mphPartly to mostly cloudy. High around 70F. Winds SSE at 5 to 10 mph.HumidityHumidity81%UV LevelUV Index2 of 11Sun RiseSunrise8:12 amSunsetSunset6:58 pmWed 16 | Night57°Scattered ShowersRain48%WindS 8\\xa0mphCloudy with occasional rain showers. Low 57F. Winds S at 5 to 10 mph. Chance of rain 50%.HumidityHumidity86%UV LevelUV Index0 of 11Moon RiseMoonrise6:28 pmMoon Phase - Day 13Waxing GibbousMoon SetMoonset6:36 amThu 17Scattered ShowersAM Showers64°/55°Rain48%WindSE 8\\xa0mphArrow DownThu 17 | Day64°Scattered ShowersRain48%WindSE 8\\xa0mphRain showers early with mostly cloudy conditions later in the day. High 64F. Winds SE at 5 to 10 mph. Chance of rain 50%.HumidityHumidity85%UV LevelUV Index2 of 11Sun RiseSunrise8:14 amSunsetSunset6:56 pmThu 17 | Night55°Scattered Showers NightRain46%WindSE 8\\xa0mphIncreasing clouds with showers arriving sometime after midnight. Low around 55F. Winds SE at 5 to 10 mph. Chance of rain 50%.HumidityHumidity91%UV LevelUV Index0 of 11Moon RiseMoonrise6:46 pmMoon Phase - Day 15Full MoonMoon SetMoonset8:05 amFri 18Scattered ShowersShowers64°/55°Rain45%WindS 9\\xa0mphArrow DownFri 18 | Day64°Scattered ShowersRain45%WindS 9\\xa0mphShowers early becoming less numerous later in the day. High 64F. Winds S at 5 to 10 mph. Chance of rain 50%.HumidityHumidity87%UV LevelUV Index2 of 11Sun RiseSunrise8:15 amSunsetSunset6:54 pmFri 18 | Night55°Scattered Showers NightRain38%WindSSW 7\\xa0mphMostly cloudy with some showers late. Low near 55F. Winds SSW at 5 to 10 mph. Chance of rain 40%.HumidityHumidity91%UV LevelUV Index0 of 11Moon RiseMoonrise7:08 pmMoon Phase - Day 16Waning GibbousMoon SetMoonset9:36 amSat 19Scattered ShowersAM Showers62°/54°Rain39%WindSSW 10\\xa0mphArrow DownSat 19 | Day62°Scattered ShowersRain39%WindSSW 10\\xa0mphRain showers early with some sunshine later in the day. High 62F. Winds SSW at 5 to 10 mph. Chance of rain 40%.HumidityHumidity88%UV LevelUV Index2 of 11Sun RiseSunrise8:17 amSunsetSunset6:52 pmSat 19 | Night54°Scattered Showers NightRain34%WindSSW 8\\xa0mphMostly cloudy during the evening. A few showers developing late. Low 54F. Winds SSW at 5 to 10 mph. Chance of rain 30%.HumidityHumidity89%UV LevelUV Index0 of 11Moon RiseMoonrise7:36 pmMoon Phase - Day 17Waning GibbousMoon SetMoonset11:07 amSun 20Scattered ShowersAM Showers60°/51°Rain34%WindSSW 10\\xa0mphArrow DownSun 20 | Day60°Scattered ShowersRain34%WindSSW 10\\xa0mphA few showers early with mostly cloudy conditions later in the day. High around 60F. Winds SSW at 5 to 10 mph. Chance of rain 30%.HumidityHumidity85%UV LevelUV Index2 of 11Sun RiseSunrise8:19 amSunsetSunset6:50 pmSun 20 | Night51°Partly Cloudy NightRain24%WindSSW 8\\xa0mphMostly cloudy skies early, then partly cloudy after midnight. Low 51F. Winds SSW at 5 to 10 mph.HumidityHumidity90%UV LevelUV Index0 of 11Moon RiseMoonrise8:13 pmMoon Phase - Day 18Waning GibbousMoon SetMoonset12:34 pmMon 21Partly CloudyPartly Cloudy60°/50°Rain24%WindSSW 9\\xa0mphArrow DownMon 21 | Day60°Partly CloudyRain24%WindSSW 9\\xa0mphPartly to mostly cloudy. High near 60F. Winds SSW at 5 to 10 mph.HumidityHumidity84%UV LevelUV Index2 of 11Sun RiseSunrise8:20 amSunsetSunset6:48 pmMon 21 | Night50°Scattered Showers NightRain34%WindSSW 7\\xa0mphPartly cloudy skies early giving way to a few showers after midnight. Low around 50F. Winds SSW at 5 to 10 mph. Chance of rain 30%.HumidityHumidity88%UV LevelUV Index0 of 11Moon RiseMoonrise9:04 pmMoon Phase - Day 19Waning GibbousMoon SetMoonset1:52 pmTue 22Scattered ShowersAM Showers59°/49°Rain36%WindSSW 9\\xa0mphArrow DownTue 22 | Day59°Scattered ShowersRain36%WindSSW 9\\xa0mphShowers in the morning, then partly cloudy in the afternoon. High 59F. Winds SSW at 5 to 10 mph. Chance of rain 40%.HumidityHumidity82%UV LevelUV Index2 of 11Sun RiseSunrise8:22 amSunsetSunset6:46 pmTue 22 | Night49°Partly Cloudy NightRain24%WindSSW 7\\xa0mphA few clouds from time to time. Low 49F. Winds SSW at 5 to 10 mph.HumidityHumidity87%UV LevelUV Index0 of 11Moon RiseMoonrise10:08 pmMoon Phase - Day 20Waning GibbousMoon SetMoonset2:52 pmAdvertisementDon't MissVideoMilton To Reach Florida As An Extremely Dangerous Major HurricaneVideoMilton's Forecast Threats, Spaghetti Models, ConeVideoEvacuations Cause Traffic Jam Along I-275 In FloridaVideoUp To 15' Storm Surge Possible: Where To Expect The WorstSee MoreRadarNow9:45 am10:15 am10:45 am11:15 am11:45 am12:15 pm12:45 pm1:15 pm1:45 pm2:15 pm2:45 pm3:15 pmMapbox Logo© 2024 Mapbox\\xa0© OpenStreetMap|Improve this mapAdvertisementAdvertisementSeasonal Skin SolutionsVideoHidden Skin Health Dangers Lurk In A Hurricane's PathSimple, Seasonal Skin Care: Easy Changes To Make For FallVideoProtect Your Skin This Season With Tricks For Fall WeatherIs Your Skin Ready For Fall? The Rejuvenating Post-Summer Skin Care You NeedSee MoreHome, Garage & GardenVideoCan The Sun Remove Stains And Deodorize Your Clothes?Video4 Reasons Why Fall Is The Best Season To Get A New RoofVideoHere’s How To Protect Your Home From Autumn House PestsVideoFall Yard Checklist: Seed, Clean, DecorateSee MoreAdvertisementThat's Not What Was ExpectedVideoClouds Cascade Through Mountain Pass In Surreal SceneVideoHow A 2023 Storm Led To Millions Of Dead Fish In GreeceVideoWatch Michigan Storms Light Up On SatelliteVideoDriver Narrowly Escapes Crumbling WallSee MoreOutsideVideoSunburn Relief: Why Aloe Vera May Soothe But Doesn’t CureVideoHiker Rescued After 10 Days Lost In California MountainsVideoBike Lanes Can Calm Busy TrafficVideoHow To Avoid A Shark AttackSee MoreAdvertisementAdvertisementAdvertisementAdvertisementAdvertisementAn Unusual TrackVideoWhat’s Steering Hurricane Milton On Its Eastward Track?AdvertisementTo Infinity & BeyondVideoRecord-Breaking Solar Flare: Stunning Images & Tech ImpactVideoOctober Serves Up Meteor Showers And A Comet For StargazersVideoHurricane Helene’s Landfall Seen On SatelliteVideoStunning Time-lapse Captures Comet Hurtling Towards The SunSee MoreAdvertisementFlu's Deadly TollVideoRecord Number Of Kids Dying From FluAdvertisementStay SafeAdvertisementAir Quality Index25GoodAir quality is considered satisfactory, and air pollution poses little or no risk.See DetailsHealth & ActivitiesGrassSeasonal Allergies and Pollen Count ForecastRagweed pollen is moderate in your areaArrow RightWeather UndergroundFeedbackMissionCareersNews RoomAdvertise With UsTVNewsletter Sign UpTerms of UsePrivacy PolicyAdChoicesAd ChoicesAccessibility StatementData VendorsGeorgiaeSSENTIAL AccessibilityWe recognize our responsibility to use data and technology for good. We may use or share your data with our data vendors. Take control of your data.Cookie SettingsData Rights© The Weather Company, LLC 2024Hidden Weather Icon MasksHidden Weather Icon Symbols\""
      ]
     },
     "execution_count": 7,
     "metadata": {},
     "output_type": "execute_result"
    }
   ],
   "source": [
    "text = \"\"\n",
    "for doc in docs:\n",
    "    text = text + doc.page_content\n",
    "text"
   ]
  },
  {
   "cell_type": "code",
   "execution_count": 8,
   "metadata": {},
   "outputs": [],
   "source": [
    "with open(\"text.txt\", \"w+\") as fh:\n",
    "    fh.write(text)"
   ]
  },
  {
   "cell_type": "code",
   "execution_count": 32,
   "metadata": {},
   "outputs": [],
   "source": []
  },
  {
   "cell_type": "code",
   "execution_count": 10,
   "metadata": {},
   "outputs": [],
   "source": [
    "from langchain_core.output_parsers import JsonOutputParser\n",
    "from langchain_core.pydantic_v1 import Field\n",
    "# Define your desired data structure.\n",
    "from pydantic import BaseModel, Field\n",
    "\n",
    "class DayTemperature(BaseModel):\n",
    "    date: str = Field(\"date of measurements\")\n",
    "    day: str = Field(\"day temperature\")\n",
    "    night: str = Field(\"night temperature\")\n",
    "    weather_conditions: str = Field(\"weather conditions for day and night\")\n",
    "    chance_of_rain: str = Field(\"chance of rain (day and night)\")\n",
    "    wind: str = Field(\"wind speed and direction (day and night)\")\n",
    "    humidity: str = Field(\"humidity (day and night)\")\n",
    "    UV: str = Field(\" UV index\")\n",
    "    sunrise_sunset: str = Field(\"sunrise and sunset times\")\n",
    "\n"
   ]
  },
  {
   "cell_type": "code",
   "execution_count": 11,
   "metadata": {},
   "outputs": [
    {
     "data": {
      "text/plain": [
       "'The output should be formatted as a JSON instance that conforms to the JSON schema below.\\n\\nAs an example, for the schema {\"properties\": {\"foo\": {\"title\": \"Foo\", \"description\": \"a list of strings\", \"type\": \"array\", \"items\": {\"type\": \"string\"}}}, \"required\": [\"foo\"]}\\nthe object {\"foo\": [\"bar\", \"baz\"]} is a well-formatted instance of the schema. The object {\"properties\": {\"foo\": [\"bar\", \"baz\"]}} is not well-formatted.\\n\\nHere is the output schema:\\n```\\n{\"properties\": {\"date\": {\"default\": \"date of measurements\", \"title\": \"Date\", \"type\": \"string\"}, \"day\": {\"default\": \"day temperature\", \"title\": \"Day\", \"type\": \"string\"}, \"night\": {\"default\": \"night temperature\", \"title\": \"Night\", \"type\": \"string\"}, \"weather_conditions\": {\"default\": \"weather conditions for day and night\", \"title\": \"Weather Conditions\", \"type\": \"string\"}, \"chance_of_rain\": {\"default\": \"chance of rain (day and night)\", \"title\": \"Chance Of Rain\", \"type\": \"string\"}, \"wind\": {\"default\": \"wind speed and direction (day and night)\", \"title\": \"Wind\", \"type\": \"string\"}, \"humidity\": {\"default\": \"humidity (day and night)\", \"title\": \"Humidity\", \"type\": \"string\"}, \"UV\": {\"default\": \" UV index\", \"title\": \"Uv\", \"type\": \"string\"}, \"sunrise_sunset\": {\"default\": \"sunrise and sunset times\", \"title\": \"Sunrise Sunset\", \"type\": \"string\"}}}\\n```'"
      ]
     },
     "execution_count": 11,
     "metadata": {},
     "output_type": "execute_result"
    }
   ],
   "source": [
    "parser = JsonOutputParser(pydantic_object=DayTemperature)\n",
    "parser.get_format_instructions()"
   ]
  },
  {
   "cell_type": "code",
   "execution_count": 12,
   "metadata": {},
   "outputs": [],
   "source": [
    "prompt = PromptTemplate(\n",
    "    template=\n",
    "    \"\"\"\n",
    "        Please provide the 10-day weather forecast for Paris, France, in a structured table format. Include both day and night details for each day. \n",
    "        Response should include the following fields:\n",
    "        {format_instructions}\n",
    "    Please ensure the data is well-organized and easy to read.\n",
    "    <content>\n",
    "    {content}\n",
    "    </conetnt>\n",
    "    \"\"\",\n",
    "    input_variables=[\"content\"],\n",
    "    partial_variables={\"format_instructions\": parser.get_format_instructions()}\n",
    ")"
   ]
  },
  {
   "cell_type": "code",
   "execution_count": 13,
   "metadata": {},
   "outputs": [
    {
     "name": "stdout",
     "output_type": "stream",
     "text": [
      "Loading .env file\n"
     ]
    }
   ],
   "source": [
    "from langchain_mistralai import ChatMistralAI\n",
    "from settings import load_settings\n",
    "settings = load_settings()\n",
    "\n",
    "model = ChatMistralAI(api_key=settings.mistral_api_key, model_name=\"mistral-large-latest\")\n"
   ]
  },
  {
   "cell_type": "code",
   "execution_count": 65,
   "metadata": {},
   "outputs": [],
   "source": [
    "chain = prompt | model | parser\n",
    "output = chain.invoke({\n",
    "    \"content\": text\n",
    "})"
   ]
  },
  {
   "cell_type": "code",
   "execution_count": 66,
   "metadata": {},
   "outputs": [],
   "source": [
    "import pandas as pd\n",
    "\n",
    "df = pd.DataFrame(output)"
   ]
  },
  {
   "cell_type": "code",
   "execution_count": 69,
   "metadata": {},
   "outputs": [
    {
     "data": {
      "text/html": [
       "<div>\n",
       "<style scoped>\n",
       "    .dataframe tbody tr th:only-of-type {\n",
       "        vertical-align: middle;\n",
       "    }\n",
       "\n",
       "    .dataframe tbody tr th {\n",
       "        vertical-align: top;\n",
       "    }\n",
       "\n",
       "    .dataframe thead th {\n",
       "        text-align: right;\n",
       "    }\n",
       "</style>\n",
       "<table border=\"1\" class=\"dataframe\">\n",
       "  <thead>\n",
       "    <tr style=\"text-align: right;\">\n",
       "      <th></th>\n",
       "      <th>date</th>\n",
       "      <th>day</th>\n",
       "      <th>night</th>\n",
       "      <th>weather_conditions</th>\n",
       "      <th>chance_of_rain</th>\n",
       "      <th>wind</th>\n",
       "      <th>humidity</th>\n",
       "      <th>UV</th>\n",
       "      <th>sunrise_sunset</th>\n",
       "    </tr>\n",
       "  </thead>\n",
       "  <tbody>\n",
       "    <tr>\n",
       "      <th>0</th>\n",
       "      <td>Mon 07</td>\n",
       "      <td>Heavy Rain 56°</td>\n",
       "      <td>Heavy Rain 56°</td>\n",
       "      <td>Heavy Rain</td>\n",
       "      <td>100%</td>\n",
       "      <td>SSW 9 mph</td>\n",
       "      <td>92%</td>\n",
       "      <td>0 of 11</td>\n",
       "      <td>Sunrise: 8:00 am, Sunset: 7:14 pm</td>\n",
       "    </tr>\n",
       "    <tr>\n",
       "      <th>1</th>\n",
       "      <td>Tue 08</td>\n",
       "      <td>Partly Cloudy 67°</td>\n",
       "      <td>Scattered Showers 57°</td>\n",
       "      <td>AM Clouds/PM Sun, Cloudy with periods of light...</td>\n",
       "      <td>24% (day), 68% (night)</td>\n",
       "      <td>SSW 13 mph</td>\n",
       "      <td>79% (day), 86% (night)</td>\n",
       "      <td>3 of 11 (day), 0 of 11 (night)</td>\n",
       "      <td>Sunrise: 8:02 am, Sunset: 7:12 pm</td>\n",
       "    </tr>\n",
       "    <tr>\n",
       "      <th>2</th>\n",
       "      <td>Wed 09</td>\n",
       "      <td>Rain 61°</td>\n",
       "      <td>Rain 55°</td>\n",
       "      <td>Rain</td>\n",
       "      <td>98% (day), 100% (night)</td>\n",
       "      <td>SSW 9 mph (day), NW 11 mph (night)</td>\n",
       "      <td>93% (day), 95% (night)</td>\n",
       "      <td>1 of 11 (day), 0 of 11 (night)</td>\n",
       "      <td>Sunrise: 8:03 am, Sunset: 7:10 pm</td>\n",
       "    </tr>\n",
       "    <tr>\n",
       "      <th>3</th>\n",
       "      <td>Thu 10</td>\n",
       "      <td>Scattered Showers 58°</td>\n",
       "      <td>Scattered Showers 46°</td>\n",
       "      <td>Steady light rain in the morning. Showers cont...</td>\n",
       "      <td>59% (day), 41% (night)</td>\n",
       "      <td>WNW 9 mph (day), NW 6 mph (night)</td>\n",
       "      <td>84% (day), 88% (night)</td>\n",
       "      <td>2 of 11 (day), 0 of 11 (night)</td>\n",
       "      <td>Sunrise: 8:05 am, Sunset: 7:08 pm</td>\n",
       "    </tr>\n",
       "    <tr>\n",
       "      <th>4</th>\n",
       "      <td>Fri 11</td>\n",
       "      <td>Partly Cloudy 56°</td>\n",
       "      <td>Partly Cloudy 43°</td>\n",
       "      <td>Partly cloudy</td>\n",
       "      <td>17% (day), 6% (night)</td>\n",
       "      <td>NE 4 mph (day), E 5 mph (night)</td>\n",
       "      <td>77% (day), 80% (night)</td>\n",
       "      <td>3 of 11 (day), 0 of 11 (night)</td>\n",
       "      <td>Sunrise: 8:06 am, Sunset: 7:06 pm</td>\n",
       "    </tr>\n",
       "  </tbody>\n",
       "</table>\n",
       "</div>"
      ],
      "text/plain": [
       "     date                    day                  night  \\\n",
       "0  Mon 07         Heavy Rain 56°         Heavy Rain 56°   \n",
       "1  Tue 08      Partly Cloudy 67°  Scattered Showers 57°   \n",
       "2  Wed 09               Rain 61°               Rain 55°   \n",
       "3  Thu 10  Scattered Showers 58°  Scattered Showers 46°   \n",
       "4  Fri 11      Partly Cloudy 56°      Partly Cloudy 43°   \n",
       "\n",
       "                                  weather_conditions           chance_of_rain  \\\n",
       "0                                         Heavy Rain                     100%   \n",
       "1  AM Clouds/PM Sun, Cloudy with periods of light...   24% (day), 68% (night)   \n",
       "2                                               Rain  98% (day), 100% (night)   \n",
       "3  Steady light rain in the morning. Showers cont...   59% (day), 41% (night)   \n",
       "4                                      Partly cloudy    17% (day), 6% (night)   \n",
       "\n",
       "                                 wind                humidity  \\\n",
       "0                           SSW 9 mph                     92%   \n",
       "1                          SSW 13 mph  79% (day), 86% (night)   \n",
       "2  SSW 9 mph (day), NW 11 mph (night)  93% (day), 95% (night)   \n",
       "3   WNW 9 mph (day), NW 6 mph (night)  84% (day), 88% (night)   \n",
       "4     NE 4 mph (day), E 5 mph (night)  77% (day), 80% (night)   \n",
       "\n",
       "                               UV                     sunrise_sunset  \n",
       "0                         0 of 11  Sunrise: 8:00 am, Sunset: 7:14 pm  \n",
       "1  3 of 11 (day), 0 of 11 (night)  Sunrise: 8:02 am, Sunset: 7:12 pm  \n",
       "2  1 of 11 (day), 0 of 11 (night)  Sunrise: 8:03 am, Sunset: 7:10 pm  \n",
       "3  2 of 11 (day), 0 of 11 (night)  Sunrise: 8:05 am, Sunset: 7:08 pm  \n",
       "4  3 of 11 (day), 0 of 11 (night)  Sunrise: 8:06 am, Sunset: 7:06 pm  "
      ]
     },
     "execution_count": 69,
     "metadata": {},
     "output_type": "execute_result"
    }
   ],
   "source": [
    "df.head()"
   ]
  },
  {
   "cell_type": "code",
   "execution_count": null,
   "metadata": {},
   "outputs": [],
   "source": []
  }
 ],
 "metadata": {
  "kernelspec": {
   "display_name": "venv",
   "language": "python",
   "name": "python3"
  },
  "language_info": {
   "codemirror_mode": {
    "name": "ipython",
    "version": 3
   },
   "file_extension": ".py",
   "mimetype": "text/x-python",
   "name": "python",
   "nbconvert_exporter": "python",
   "pygments_lexer": "ipython3",
   "version": "3.11.5"
  }
 },
 "nbformat": 4,
 "nbformat_minor": 2
}
